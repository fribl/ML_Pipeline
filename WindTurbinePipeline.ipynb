{
 "cells": [
  {
   "cell_type": "code",
   "execution_count": 2,
   "metadata": {},
   "outputs": [],
   "source": [
    "from influxdb import InfluxDBClient\n",
    "import pandas as pd"
   ]
  },
  {
   "cell_type": "markdown",
   "metadata": {},
   "source": [
    "Connection to DB, requires a host and user"
   ]
  },
  {
   "cell_type": "code",
   "execution_count": 3,
   "metadata": {},
   "outputs": [],
   "source": [
    "client = InfluxDBClient ( host ='INSERT', port =8086 , username ='INSERT',\n",
    "password = 'INSERT')\n",
    "client.switch_database ('orkney')"
   ]
  },
  {
   "cell_type": "code",
   "execution_count": 4,
   "metadata": {},
   "outputs": [],
   "source": [
    "def get_df(results):\n",
    "    values = results.raw[\"series\"][0][\"values\"]\n",
    "    columns = results.raw[\"series\"][0][\"columns\"]\n",
    "    df = pd.DataFrame(values , columns = columns).set_index(\"time\")\n",
    "    df.index = pd.to_datetime(df.index) # Convert to datetime - index\n",
    "    return df"
   ]
  },
  {
   "cell_type": "code",
   "execution_count": 5,
   "metadata": {},
   "outputs": [],
   "source": [
    "generation = client.query(\" SELECT mean(Total) FROM Generation where time > now()-365d GROUP BY time(3h)\")\n",
    "wind = client.query (\" SELECT time, Speed, Direction, Source_time FROM MetForecasts where time > now()-365d and time <= now() and Lead_hours = '1'\") # Query written in InfluxQL"
   ]
  },
  {
   "cell_type": "code",
   "execution_count": 6,
   "metadata": {},
   "outputs": [
    {
     "name": "stdout",
     "output_type": "stream",
     "text": [
      "                                mean\n",
      "time                                \n",
      "2021-10-07 12:00:00+00:00  17.892424\n",
      "2021-10-07 15:00:00+00:00  18.719550\n",
      "2021-10-07 18:00:00+00:00  16.318089\n",
      "2021-10-07 21:00:00+00:00   7.719917\n",
      "2021-10-08 00:00:00+00:00   6.795372\n",
      "...                              ...\n",
      "2022-10-07 00:00:00+00:00  29.809551\n",
      "2022-10-07 03:00:00+00:00  35.401528\n",
      "2022-10-07 06:00:00+00:00  35.739717\n",
      "2022-10-07 09:00:00+00:00  24.858912\n",
      "2022-10-07 12:00:00+00:00  34.986920\n",
      "\n",
      "[2921 rows x 1 columns]\n",
      "                              Speed Direction  Source_time\n",
      "time                                                      \n",
      "2021-10-07 15:00:00+00:00   8.04672         S   1633608000\n",
      "2021-10-07 18:00:00+00:00   8.04672         S   1633618800\n",
      "2021-10-07 21:00:00+00:00   5.81152         S   1633629600\n",
      "2021-10-08 00:00:00+00:00   5.81152       SSW   1633640400\n",
      "2021-10-08 03:00:00+00:00   4.02336       SSW   1633651200\n",
      "...                             ...       ...          ...\n",
      "2022-10-07 00:00:00+00:00  11.17600        SW   1665090000\n",
      "2022-10-07 03:00:00+00:00  13.85824       WSW   1665100800\n",
      "2022-10-07 06:00:00+00:00  15.19936       WSW   1665111600\n",
      "2022-10-07 09:00:00+00:00  13.85824       WSW   1665122400\n",
      "2022-10-07 12:00:00+00:00  12.96416         W   1665133200\n",
      "\n",
      "[2845 rows x 3 columns]\n"
     ]
    }
   ],
   "source": [
    "gen_df = get_df(generation)\n",
    "wind_df = get_df(wind)\n",
    "print(gen_df)\n",
    "print(wind_df)\n"
   ]
  },
  {
   "cell_type": "code",
   "execution_count": 7,
   "metadata": {},
   "outputs": [],
   "source": [
    "#Drop empyu values in mean total power output\n",
    "gen_df.isnull().sum()\n",
    "gen_df = gen_df.dropna()"
   ]
  },
  {
   "cell_type": "code",
   "execution_count": 8,
   "metadata": {},
   "outputs": [],
   "source": [
    "#Joins the dataframes\n",
    "resultdf = gen_df.join(wind_df, lsuffix='time')"
   ]
  },
  {
   "cell_type": "code",
   "execution_count": 9,
   "metadata": {},
   "outputs": [
    {
     "name": "stdout",
     "output_type": "stream",
     "text": [
      "Skewness of speed: 0.49007725604272434\n",
      "Skewness of power: 0.07923363340872489\n"
     ]
    }
   ],
   "source": [
    "skewness_speed = resultdf['Speed'].astype(float).skew()\n",
    "print(\"Skewness of speed:\", skewness_speed)\n",
    "skewness_mean = resultdf['mean'].astype(float).skew()\n",
    "print(\"Skewness of power:\", skewness_mean)"
   ]
  },
  {
   "cell_type": "code",
   "execution_count": 10,
   "metadata": {},
   "outputs": [
    {
     "data": {
      "text/plain": [
       "<function matplotlib.pyplot.show(close=None, block=None)>"
      ]
     },
     "execution_count": 10,
     "metadata": {},
     "output_type": "execute_result"
    },
    {
     "data": {
      "image/png": "[encoded data removed]",
      "text/plain": [
       "<Figure size 432x288 with 1 Axes>"
      ]
     },
     "metadata": {
      "needs_background": "light"
     },
     "output_type": "display_data"
    }
   ],
   "source": [
    "import matplotlib.pyplot as plt\n",
    "speed = resultdf[\"Speed\"]\n",
    "mean = resultdf[\"mean\"]\n",
    "plt.scatter(speed, mean)\n",
    "plt.xlabel(\"Speed\")\n",
    "plt.ylabel(\"Mean total power\")\n",
    "plt.show"
   ]
  },
  {
   "cell_type": "markdown",
   "metadata": {},
   "source": [
    "Pipeline:"
   ]
  },
  {
   "cell_type": "code",
   "execution_count": 11,
   "metadata": {},
   "outputs": [],
   "source": [
    "from sklearn.compose import ColumnTransformer\n",
    "from sklearn.impute import SimpleImputer\n",
    "from sklearn.preprocessing import OneHotEncoder\n",
    "from sklearn.preprocessing import StandardScaler, PolynomialFeatures, RobustScaler\n",
    "from sklearn.linear_model import LinearRegression\n",
    "from sklearn.pipeline import Pipeline\n",
    "\n",
    "cat_preprocess = Pipeline([\n",
    "     (\"imputer_direction\", SimpleImputer(strategy=\"most_frequent\")),\n",
    "     (\"onehotencoder\", OneHotEncoder(handle_unknown=\"ignore\"))\n",
    "])\n",
    "\n",
    "columntransformer = ColumnTransformer([\n",
    "    (\"imputer_speed\", SimpleImputer(strategy=\"mean\"), [\"Speed\"]),\n",
    "    (\"categorization\", cat_preprocess, [\"Direction\"])\n",
    "], remainder=\"passthrough\")\n",
    "\n",
    "\n",
    "pipeline = Pipeline([\n",
    "    (\"columntransformer\", columntransformer),\n",
    "    (\"scaler\", RobustScaler(with_centering=False)),\n",
    "    (\"polynomial\", PolynomialFeatures(3)),\n",
    "    (\"linearregression\", LinearRegression())\n",
    "])"
   ]
  },
  {
   "cell_type": "code",
   "execution_count": 12,
   "metadata": {},
   "outputs": [],
   "source": [
    "#splitting data in training and test sets\n",
    "from sklearn.model_selection import train_test_split\n",
    "\n",
    "X = resultdf[[\"Speed\", \"Direction\"]]\n",
    "y = resultdf[[\"mean\"]]\n",
    "\n",
    "X_train, X_test, y_train, y_test = train_test_split(X, y, test_size=0.33, shuffle=False)\n"
   ]
  },
  {
   "cell_type": "code",
   "execution_count": 13,
   "metadata": {},
   "outputs": [
    {
     "data": {
      "text/html": [
       "<style>#sk-5d1fbd21-28df-41bb-92f1-3f1ca3f50db9 {color: black;background-color: white;}#sk-5d1fbd21-28df-41bb-92f1-3f1ca3f50db9 pre{padding: 0;}#sk-5d1fbd21-28df-41bb-92f1-3f1ca3f50db9 div.sk-toggleable {background-color: white;}#sk-5d1fbd21-28df-41bb-92f1-3f1ca3f50db9 label.sk-toggleable__label {cursor: pointer;display: block;width: 100%;margin-bottom: 0;padding: 0.2em 0.3em;box-sizing: border-box;text-align: center;}#sk-5d1fbd21-28df-41bb-92f1-3f1ca3f50db9 div.sk-toggleable__content {max-height: 0;max-width: 0;overflow: hidden;text-align: left;background-color: #f0f8ff;}#sk-5d1fbd21-28df-41bb-92f1-3f1ca3f50db9 div.sk-toggleable__content pre {margin: 0.2em;color: black;border-radius: 0.25em;background-color: #f0f8ff;}#sk-5d1fbd21-28df-41bb-92f1-3f1ca3f50db9 input.sk-toggleable__control:checked~div.sk-toggleable__content {max-height: 200px;max-width: 100%;overflow: auto;}#sk-5d1fbd21-28df-41bb-92f1-3f1ca3f50db9 div.sk-estimator input.sk-toggleable__control:checked~label.sk-toggleable__label {background-color: #d4ebff;}#sk-5d1fbd21-28df-41bb-92f1-3f1ca3f50db9 div.sk-label input.sk-toggleable__control:checked~label.sk-toggleable__label {background-color: #d4ebff;}#sk-5d1fbd21-28df-41bb-92f1-3f1ca3f50db9 input.sk-hidden--visually {border: 0;clip: rect(1px 1px 1px 1px);clip: rect(1px, 1px, 1px, 1px);height: 1px;margin: -1px;overflow: hidden;padding: 0;position: absolute;width: 1px;}#sk-5d1fbd21-28df-41bb-92f1-3f1ca3f50db9 div.sk-estimator {font-family: monospace;background-color: #f0f8ff;margin: 0.25em 0.25em;border: 1px dotted black;border-radius: 0.25em;box-sizing: border-box;}#sk-5d1fbd21-28df-41bb-92f1-3f1ca3f50db9 div.sk-estimator:hover {background-color: #d4ebff;}#sk-5d1fbd21-28df-41bb-92f1-3f1ca3f50db9 div.sk-parallel-item::after {content: \"\";width: 100%;border-bottom: 1px solid gray;flex-grow: 1;}#sk-5d1fbd21-28df-41bb-92f1-3f1ca3f50db9 div.sk-label:hover label.sk-toggleable__label {background-color: #d4ebff;}#sk-5d1fbd21-28df-41bb-92f1-3f1ca3f50db9 div.sk-serial::before {content: \"\";position: absolute;border-left: 1px solid gray;box-sizing: border-box;top: 2em;bottom: 0;left: 50%;}#sk-5d1fbd21-28df-41bb-92f1-3f1ca3f50db9 div.sk-serial {display: flex;flex-direction: column;align-items: center;background-color: white;}#sk-5d1fbd21-28df-41bb-92f1-3f1ca3f50db9 div.sk-item {z-index: 1;}#sk-5d1fbd21-28df-41bb-92f1-3f1ca3f50db9 div.sk-parallel {display: flex;align-items: stretch;justify-content: center;background-color: white;}#sk-5d1fbd21-28df-41bb-92f1-3f1ca3f50db9 div.sk-parallel-item {display: flex;flex-direction: column;position: relative;background-color: white;}#sk-5d1fbd21-28df-41bb-92f1-3f1ca3f50db9 div.sk-parallel-item:first-child::after {align-self: flex-end;width: 50%;}#sk-5d1fbd21-28df-41bb-92f1-3f1ca3f50db9 div.sk-parallel-item:last-child::after {align-self: flex-start;width: 50%;}#sk-5d1fbd21-28df-41bb-92f1-3f1ca3f50db9 div.sk-parallel-item:only-child::after {width: 0;}#sk-5d1fbd21-28df-41bb-92f1-3f1ca3f50db9 div.sk-dashed-wrapped {border: 1px dashed gray;margin: 0.2em;box-sizing: border-box;padding-bottom: 0.1em;background-color: white;position: relative;}#sk-5d1fbd21-28df-41bb-92f1-3f1ca3f50db9 div.sk-label label {font-family: monospace;font-weight: bold;background-color: white;display: inline-block;line-height: 1.2em;}#sk-5d1fbd21-28df-41bb-92f1-3f1ca3f50db9 div.sk-label-container {position: relative;z-index: 2;text-align: center;}#sk-5d1fbd21-28df-41bb-92f1-3f1ca3f50db9 div.sk-container {display: inline-block;position: relative;}</style><div id=\"sk-5d1fbd21-28df-41bb-92f1-3f1ca3f50db9\" class\"sk-top-container\"><div class=\"sk-container\"><div class=\"sk-item sk-dashed-wrapped\"><div class=\"sk-label-container\"><div class=\"sk-label sk-toggleable\"><input class=\"sk-toggleable__control sk-hidden--visually\" id=\"cda39048-57f7-48ca-bb40-7c07ca951341\" type=\"checkbox\" ><label class=\"sk-toggleable__label\" for=\"cda39048-57f7-48ca-bb40-7c07ca951341\">Pipeline</label><div class=\"sk-toggleable__content\"><pre>Pipeline(steps=[('columntransformer',\n",
       "                 ColumnTransformer(remainder='passthrough',\n",
       "                                   transformers=[('imputer_speed',\n",
       "                                                  SimpleImputer(), ['Speed']),\n",
       "                                                 ('categorization',\n",
       "                                                  Pipeline(steps=[('imputer_direction',\n",
       "                                                                   SimpleImputer(strategy='most_frequent')),\n",
       "                                                                  ('onehotencoder',\n",
       "                                                                   OneHotEncoder(handle_unknown='ignore'))]),\n",
       "                                                  ['Direction'])])),\n",
       "                ('scaler', RobustScaler(with_centering=False)),\n",
       "                ('polynomial', PolynomialFeatures(degree=3)),\n",
       "                ('linearregression', LinearRegression())])</pre></div></div></div><div class=\"sk-serial\"><div class=\"sk-item sk-dashed-wrapped\"><div class=\"sk-label-container\"><div class=\"sk-label sk-toggleable\"><input class=\"sk-toggleable__control sk-hidden--visually\" id=\"a66f946e-7945-47d0-b941-38a5c78cfd22\" type=\"checkbox\" ><label class=\"sk-toggleable__label\" for=\"a66f946e-7945-47d0-b941-38a5c78cfd22\">columntransformer: ColumnTransformer</label><div class=\"sk-toggleable__content\"><pre>ColumnTransformer(remainder='passthrough',\n",
       "                  transformers=[('imputer_speed', SimpleImputer(), ['Speed']),\n",
       "                                ('categorization',\n",
       "                                 Pipeline(steps=[('imputer_direction',\n",
       "                                                  SimpleImputer(strategy='most_frequent')),\n",
       "                                                 ('onehotencoder',\n",
       "                                                  OneHotEncoder(handle_unknown='ignore'))]),\n",
       "                                 ['Direction'])])</pre></div></div></div><div class=\"sk-parallel\"><div class=\"sk-parallel-item\"><div class=\"sk-item\"><div class=\"sk-label-container\"><div class=\"sk-label sk-toggleable\"><input class=\"sk-toggleable__control sk-hidden--visually\" id=\"3ae2649c-a83c-42e0-9b54-603c810c33b9\" type=\"checkbox\" ><label class=\"sk-toggleable__label\" for=\"3ae2649c-a83c-42e0-9b54-603c810c33b9\">imputer_speed</label><div class=\"sk-toggleable__content\"><pre>['Speed']</pre></div></div></div><div class=\"sk-serial\"><div class=\"sk-item\"><div class=\"sk-estimator sk-toggleable\"><input class=\"sk-toggleable__control sk-hidden--visually\" id=\"9b37b1d1-5cc8-4a42-9dec-bf0dcfa6d742\" type=\"checkbox\" ><label class=\"sk-toggleable__label\" for=\"9b37b1d1-5cc8-4a42-9dec-bf0dcfa6d742\">SimpleImputer</label><div class=\"sk-toggleable__content\"><pre>SimpleImputer()</pre></div></div></div></div></div></div><div class=\"sk-parallel-item\"><div class=\"sk-item\"><div class=\"sk-label-container\"><div class=\"sk-label sk-toggleable\"><input class=\"sk-toggleable__control sk-hidden--visually\" id=\"bcdc2b5e-7c8b-4e79-8117-ae855c2595ec\" type=\"checkbox\" ><label class=\"sk-toggleable__label\" for=\"bcdc2b5e-7c8b-4e79-8117-ae855c2595ec\">categorization</label><div class=\"sk-toggleable__content\"><pre>['Direction']</pre></div></div></div><div class=\"sk-serial\"><div class=\"sk-item\"><div class=\"sk-serial\"><div class=\"sk-item\"><div class=\"sk-estimator sk-toggleable\"><input class=\"sk-toggleable__control sk-hidden--visually\" id=\"73aa6fb8-8049-4172-87b8-53f2df30840e\" type=\"checkbox\" ><label class=\"sk-toggleable__label\" for=\"73aa6fb8-8049-4172-87b8-53f2df30840e\">SimpleImputer</label><div class=\"sk-toggleable__content\"><pre>SimpleImputer(strategy='most_frequent')</pre></div></div></div><div class=\"sk-item\"><div class=\"sk-estimator sk-toggleable\"><input class=\"sk-toggleable__control sk-hidden--visually\" id=\"99ba51f9-0b3a-485b-b511-f743c45851c7\" type=\"checkbox\" ><label class=\"sk-toggleable__label\" for=\"99ba51f9-0b3a-485b-b511-f743c45851c7\">OneHotEncoder</label><div class=\"sk-toggleable__content\"><pre>OneHotEncoder(handle_unknown='ignore')</pre></div></div></div></div></div></div></div></div><div class=\"sk-parallel-item\"><div class=\"sk-item\"><div class=\"sk-label-container\"><div class=\"sk-label sk-toggleable\"><input class=\"sk-toggleable__control sk-hidden--visually\" id=\"e44e6958-1d08-4703-8570-7eaa9d01ac80\" type=\"checkbox\" ><label class=\"sk-toggleable__label\" for=\"e44e6958-1d08-4703-8570-7eaa9d01ac80\">remainder</label><div class=\"sk-toggleable__content\"><pre>[['Speed', 'Direction']]</pre></div></div></div><div class=\"sk-serial\"><div class=\"sk-item\"><div class=\"sk-estimator sk-toggleable\"><input class=\"sk-toggleable__control sk-hidden--visually\" id=\"21317929-6ecf-4998-b6e5-f00c0aaf077b\" type=\"checkbox\" ><label class=\"sk-toggleable__label\" for=\"21317929-6ecf-4998-b6e5-f00c0aaf077b\">passthrough</label><div class=\"sk-toggleable__content\"><pre>passthrough</pre></div></div></div></div></div></div></div></div><div class=\"sk-item\"><div class=\"sk-estimator sk-toggleable\"><input class=\"sk-toggleable__control sk-hidden--visually\" id=\"3e2681c1-9d17-40d4-80c2-cdf7868e6de8\" type=\"checkbox\" ><label class=\"sk-toggleable__label\" for=\"3e2681c1-9d17-40d4-80c2-cdf7868e6de8\">RobustScaler</label><div class=\"sk-toggleable__content\"><pre>RobustScaler(with_centering=False)</pre></div></div></div><div class=\"sk-item\"><div class=\"sk-estimator sk-toggleable\"><input class=\"sk-toggleable__control sk-hidden--visually\" id=\"2c3fe4bf-b8b4-4213-b76b-b5b8f5cdbc76\" type=\"checkbox\" ><label class=\"sk-toggleable__label\" for=\"2c3fe4bf-b8b4-4213-b76b-b5b8f5cdbc76\">PolynomialFeatures</label><div class=\"sk-toggleable__content\"><pre>PolynomialFeatures(degree=3)</pre></div></div></div><div class=\"sk-item\"><div class=\"sk-estimator sk-toggleable\"><input class=\"sk-toggleable__control sk-hidden--visually\" id=\"fc4a8ba5-f0c4-4aaa-afff-bdc1d88be0d2\" type=\"checkbox\" ><label class=\"sk-toggleable__label\" for=\"fc4a8ba5-f0c4-4aaa-afff-bdc1d88be0d2\">LinearRegression</label><div class=\"sk-toggleable__content\"><pre>LinearRegression()</pre></div></div></div></div></div></div></div>"
      ],
      "text/plain": [
       "Pipeline(steps=[('columntransformer',\n",
       "                 ColumnTransformer(remainder='passthrough',\n",
       "                                   transformers=[('imputer_speed',\n",
       "                                                  SimpleImputer(), ['Speed']),\n",
       "                                                 ('categorization',\n",
       "                                                  Pipeline(steps=[('imputer_direction',\n",
       "                                                                   SimpleImputer(strategy='most_frequent')),\n",
       "                                                                  ('onehotencoder',\n",
       "                                                                   OneHotEncoder(handle_unknown='ignore'))]),\n",
       "                                                  ['Direction'])])),\n",
       "                ('scaler', RobustScaler(with_centering=False)),\n",
       "                ('polynomial', PolynomialFeatures(degree=3)),\n",
       "                ('linearregression', LinearRegression())])"
      ]
     },
     "execution_count": 13,
     "metadata": {},
     "output_type": "execute_result"
    }
   ],
   "source": [
    "#fit model\n",
    "from sklearn import set_config\n",
    "set_config(display=\"diagram\")\n",
    "\n",
    "model = pipeline.fit(X_train, y_train)\n",
    "model\n"
   ]
  },
  {
   "cell_type": "code",
   "execution_count": 14,
   "metadata": {},
   "outputs": [
    {
     "name": "stdout",
     "output_type": "stream",
     "text": [
      "MAE: 4.453760106308198\n",
      "MSE: 32.500668834265525\n"
     ]
    }
   ],
   "source": [
    "from sklearn.metrics import mean_absolute_error, mean_squared_error\n",
    "\n",
    "#Train and test data:\n",
    "\n",
    "y_hat = pipeline.predict(X_test)\n",
    "mae = mean_absolute_error(y_test, y_hat)\n",
    "mse = mean_squared_error(y_test, y_hat)\n",
    "print(\"MAE:\", mae)\n",
    "print(\"MSE:\", mse)"
   ]
  },
  {
   "cell_type": "code",
   "execution_count": 15,
   "metadata": {},
   "outputs": [
    {
     "name": "stdout",
     "output_type": "stream",
     "text": [
      "[[26.84170702]\n",
      " [24.89137327]\n",
      " [18.02117913]\n",
      " [21.82705136]\n",
      " [19.55461485]\n",
      " [14.71805028]\n",
      " [16.90094258]\n",
      " [19.32401067]\n",
      " [23.9657696 ]\n",
      " [23.9657696 ]\n",
      " [21.46785818]\n",
      " [22.86458903]\n",
      " [25.76814561]\n",
      " [29.68383855]\n",
      " [30.15886954]\n",
      " [34.4196182 ]\n",
      " [25.89408824]\n",
      " [28.2419116 ]\n",
      " [29.50991525]\n",
      " [30.12513878]\n",
      " [30.37692566]\n",
      " [30.87577388]\n",
      " [30.87577388]\n",
      " [27.53396483]\n",
      " [28.90184083]\n",
      " [29.79045497]\n",
      " [28.03193323]\n",
      " [26.62068599]\n",
      " [21.82705136]\n",
      " [14.46120018]\n",
      " [ 7.69779936]\n",
      " [ 9.91528907]\n",
      " [10.52973217]\n",
      " [16.29173263]\n",
      " [17.65497919]]\n"
     ]
    }
   ],
   "source": [
    "#Predictions on new data: mean power output based on wind speed and wind directions\n",
    "\n",
    "forecasts = client.query(\n",
    "    \"SELECT time, Speed, Direction, Source_time FROM MetForecasts where time > now()\"\n",
    ")\n",
    "for_df = get_df(forecasts)\n",
    "\n",
    "newest_source_time = for_df[\"Source_time\"].max()\n",
    "newest_forecasts = for_df.loc[for_df[\"Source_time\"] == newest_source_time].copy()\n",
    "newest_forecasts_df = pd.DataFrame(data=newest_forecasts, columns=[\"Speed\", \"Direction\"])\n",
    "predictions = pipeline.predict(newest_forecasts_df)\n",
    "print(predictions)"
   ]
  },
  {
   "cell_type": "markdown",
   "metadata": {},
   "source": []
  }
 ],
 "metadata": {
  "kernelspec": {
   "display_name": "Python 3.9.7 64-bit",
   "language": "python",
   "name": "python3"
  },
  "language_info": {
   "codemirror_mode": {
    "name": "ipython",
    "version": 3
   },
   "file_extension": ".py",
   "mimetype": "text/x-python",
   "name": "python",
   "nbconvert_exporter": "python",
   "pygments_lexer": "ipython3",
   "version": "3.9.7"
  },
  "orig_nbformat": 4,
  "vscode": {
   "interpreter": {
    "hash": "aee8b7b246df8f9039afb4144a1f6fd8d2ca17a180786b69acc140d282b71a49"
   }
  }
 },
 "nbformat": 4,
 "nbformat_minor": 2
}
